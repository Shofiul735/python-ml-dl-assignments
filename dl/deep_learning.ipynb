{
 "cells": [
  {
   "cell_type": "markdown",
   "id": "f1c5b7cb",
   "metadata": {},
   "source": [
    "# Demo of one simple fully connected Neural network"
   ]
  },
  {
   "cell_type": "code",
   "execution_count": 1,
   "id": "a5ef4101",
   "metadata": {},
   "outputs": [],
   "source": [
    "# importing necessary libraries\n",
    "import tensorflow as tf\n",
    "import numpy as np\n",
    "from tensorflow.keras import Sequential \n",
    "from tensorflow.keras.layers import Dense"
   ]
  },
  {
   "cell_type": "code",
   "execution_count": 2,
   "id": "efd5fa55",
   "metadata": {},
   "outputs": [],
   "source": [
    "layer0 = Dense(units=1, input_shape=[1])\n",
    "model = Sequential([layer0]) #In the network there is only one neuron and input shape is 1\n",
    "model.compile(optimizer='sgd', loss='mean_squared_error') # optimized = Stochastic gradient descent, loss function => mean_squared_error"
   ]
  },
  {
   "cell_type": "code",
   "execution_count": 3,
   "id": "eb6af6fa",
   "metadata": {},
   "outputs": [],
   "source": [
    "# making dummy data\n",
    "X = np.array([-1.0, 0.0, 1.0, 2.0, 3.0, 4.0,5.0,6.0], dtype=float)\n",
    "y = np.array([-2.0, 0.0, 2.0, 4.0, 6.0, 8.0,10.0,12.0], dtype=float) # y = x*2"
   ]
  },
  {
   "cell_type": "code",
   "execution_count": 4,
   "id": "4d393987",
   "metadata": {},
   "outputs": [
    {
     "name": "stdout",
     "output_type": "stream",
     "text": [
      "Epoch 1/150\n",
      "1/1 [==============================] - 0s 69ms/step - loss: 16.7944\n",
      "Epoch 2/150\n",
      "1/1 [==============================] - 0s 1ms/step - loss: 9.6799\n",
      "Epoch 3/150\n",
      "1/1 [==============================] - 0s 1ms/step - loss: 5.5844\n",
      "Epoch 4/150\n",
      "1/1 [==============================] - 0s 1ms/step - loss: 3.2267\n",
      "Epoch 5/150\n",
      "1/1 [==============================] - 0s 2ms/step - loss: 1.8693\n",
      "Epoch 6/150\n",
      "1/1 [==============================] - 0s 2ms/step - loss: 1.0877\n",
      "Epoch 7/150\n",
      "1/1 [==============================] - 0s 2ms/step - loss: 0.6376\n",
      "Epoch 8/150\n",
      "1/1 [==============================] - 0s 2ms/step - loss: 0.3784\n",
      "Epoch 9/150\n",
      "1/1 [==============================] - 0s 2ms/step - loss: 0.2289\n",
      "Epoch 10/150\n",
      "1/1 [==============================] - 0s 2ms/step - loss: 0.1427\n",
      "Epoch 11/150\n",
      "1/1 [==============================] - 0s 2ms/step - loss: 0.0929\n",
      "Epoch 12/150\n",
      "1/1 [==============================] - 0s 1ms/step - loss: 0.0640\n",
      "Epoch 13/150\n",
      "1/1 [==============================] - 0s 2ms/step - loss: 0.0472\n",
      "Epoch 14/150\n",
      "1/1 [==============================] - 0s 2ms/step - loss: 0.0374\n",
      "Epoch 15/150\n",
      "1/1 [==============================] - 0s 2ms/step - loss: 0.0315\n",
      "Epoch 16/150\n",
      "1/1 [==============================] - 0s 1ms/step - loss: 0.0280\n",
      "Epoch 17/150\n",
      "1/1 [==============================] - 0s 1ms/step - loss: 0.0258\n",
      "Epoch 18/150\n",
      "1/1 [==============================] - 0s 2ms/step - loss: 0.0243\n",
      "Epoch 19/150\n",
      "1/1 [==============================] - 0s 2ms/step - loss: 0.0233\n",
      "Epoch 20/150\n",
      "1/1 [==============================] - 0s 2ms/step - loss: 0.0226\n",
      "Epoch 21/150\n",
      "1/1 [==============================] - 0s 1ms/step - loss: 0.0220\n",
      "Epoch 22/150\n",
      "1/1 [==============================] - 0s 1ms/step - loss: 0.0215\n",
      "Epoch 23/150\n",
      "1/1 [==============================] - 0s 1ms/step - loss: 0.0211\n",
      "Epoch 24/150\n",
      "1/1 [==============================] - 0s 2ms/step - loss: 0.0207\n",
      "Epoch 25/150\n",
      "1/1 [==============================] - 0s 2ms/step - loss: 0.0203\n",
      "Epoch 26/150\n",
      "1/1 [==============================] - 0s 2ms/step - loss: 0.0200\n",
      "Epoch 27/150\n",
      "1/1 [==============================] - 0s 1ms/step - loss: 0.0196\n",
      "Epoch 28/150\n",
      "1/1 [==============================] - 0s 1ms/step - loss: 0.0193\n",
      "Epoch 29/150\n",
      "1/1 [==============================] - 0s 2ms/step - loss: 0.0189\n",
      "Epoch 30/150\n",
      "1/1 [==============================] - 0s 2ms/step - loss: 0.0186\n",
      "Epoch 31/150\n",
      "1/1 [==============================] - 0s 2ms/step - loss: 0.0183\n",
      "Epoch 32/150\n",
      "1/1 [==============================] - 0s 2ms/step - loss: 0.0180\n",
      "Epoch 33/150\n",
      "1/1 [==============================] - 0s 2ms/step - loss: 0.0176\n",
      "Epoch 34/150\n",
      "1/1 [==============================] - 0s 2ms/step - loss: 0.0173\n",
      "Epoch 35/150\n",
      "1/1 [==============================] - 0s 1ms/step - loss: 0.0170\n",
      "Epoch 36/150\n",
      "1/1 [==============================] - 0s 2ms/step - loss: 0.0167\n",
      "Epoch 37/150\n",
      "1/1 [==============================] - 0s 2ms/step - loss: 0.0164\n",
      "Epoch 38/150\n",
      "1/1 [==============================] - 0s 2ms/step - loss: 0.0162\n",
      "Epoch 39/150\n",
      "1/1 [==============================] - 0s 2ms/step - loss: 0.0159\n",
      "Epoch 40/150\n",
      "1/1 [==============================] - 0s 1ms/step - loss: 0.0156\n",
      "Epoch 41/150\n",
      "1/1 [==============================] - 0s 1ms/step - loss: 0.0153\n",
      "Epoch 42/150\n",
      "1/1 [==============================] - 0s 1ms/step - loss: 0.0151\n",
      "Epoch 43/150\n",
      "1/1 [==============================] - 0s 2ms/step - loss: 0.0148\n",
      "Epoch 44/150\n",
      "1/1 [==============================] - 0s 2ms/step - loss: 0.0146\n",
      "Epoch 45/150\n",
      "1/1 [==============================] - 0s 2ms/step - loss: 0.0143\n",
      "Epoch 46/150\n",
      "1/1 [==============================] - 0s 1ms/step - loss: 0.0141\n",
      "Epoch 47/150\n",
      "1/1 [==============================] - 0s 2ms/step - loss: 0.0138\n",
      "Epoch 48/150\n",
      "1/1 [==============================] - 0s 2ms/step - loss: 0.0136\n",
      "Epoch 49/150\n",
      "1/1 [==============================] - 0s 2ms/step - loss: 0.0133\n",
      "Epoch 50/150\n",
      "1/1 [==============================] - 0s 2ms/step - loss: 0.0131\n",
      "Epoch 51/150\n",
      "1/1 [==============================] - 0s 2ms/step - loss: 0.0129\n",
      "Epoch 52/150\n",
      "1/1 [==============================] - 0s 2ms/step - loss: 0.0127\n",
      "Epoch 53/150\n",
      "1/1 [==============================] - 0s 2ms/step - loss: 0.0124\n",
      "Epoch 54/150\n",
      "1/1 [==============================] - 0s 2ms/step - loss: 0.0122\n",
      "Epoch 55/150\n",
      "1/1 [==============================] - 0s 2ms/step - loss: 0.0120\n",
      "Epoch 56/150\n",
      "1/1 [==============================] - 0s 2ms/step - loss: 0.0118\n",
      "Epoch 57/150\n",
      "1/1 [==============================] - 0s 2ms/step - loss: 0.0116\n",
      "Epoch 58/150\n",
      "1/1 [==============================] - 0s 2ms/step - loss: 0.0114\n",
      "Epoch 59/150\n",
      "1/1 [==============================] - 0s 2ms/step - loss: 0.0112\n",
      "Epoch 60/150\n",
      "1/1 [==============================] - 0s 2ms/step - loss: 0.0110\n",
      "Epoch 61/150\n",
      "1/1 [==============================] - 0s 1ms/step - loss: 0.0108\n",
      "Epoch 62/150\n",
      "1/1 [==============================] - 0s 2ms/step - loss: 0.0106\n",
      "Epoch 63/150\n",
      "1/1 [==============================] - 0s 1ms/step - loss: 0.0104\n",
      "Epoch 64/150\n",
      "1/1 [==============================] - 0s 2ms/step - loss: 0.0103\n",
      "Epoch 65/150\n",
      "1/1 [==============================] - 0s 2ms/step - loss: 0.0101\n",
      "Epoch 66/150\n",
      "1/1 [==============================] - 0s 2ms/step - loss: 0.0099\n",
      "Epoch 67/150\n",
      "1/1 [==============================] - 0s 2ms/step - loss: 0.0097\n",
      "Epoch 68/150\n",
      "1/1 [==============================] - 0s 1ms/step - loss: 0.0096\n",
      "Epoch 69/150\n",
      "1/1 [==============================] - 0s 2ms/step - loss: 0.0094\n",
      "Epoch 70/150\n",
      "1/1 [==============================] - 0s 2ms/step - loss: 0.0092\n",
      "Epoch 71/150\n",
      "1/1 [==============================] - 0s 1ms/step - loss: 0.0091\n",
      "Epoch 72/150\n",
      "1/1 [==============================] - 0s 1ms/step - loss: 0.0089\n",
      "Epoch 73/150\n",
      "1/1 [==============================] - 0s 2ms/step - loss: 0.0088\n",
      "Epoch 74/150\n",
      "1/1 [==============================] - 0s 2ms/step - loss: 0.0086\n",
      "Epoch 75/150\n",
      "1/1 [==============================] - 0s 2ms/step - loss: 0.0085\n",
      "Epoch 76/150\n",
      "1/1 [==============================] - 0s 2ms/step - loss: 0.0083\n",
      "Epoch 77/150\n",
      "1/1 [==============================] - 0s 2ms/step - loss: 0.0082\n",
      "Epoch 78/150\n",
      "1/1 [==============================] - 0s 2ms/step - loss: 0.0080\n",
      "Epoch 79/150\n",
      "1/1 [==============================] - 0s 2ms/step - loss: 0.0079\n",
      "Epoch 80/150\n",
      "1/1 [==============================] - 0s 2ms/step - loss: 0.0078\n",
      "Epoch 81/150\n",
      "1/1 [==============================] - 0s 2ms/step - loss: 0.0076\n",
      "Epoch 82/150\n",
      "1/1 [==============================] - 0s 2ms/step - loss: 0.0075\n",
      "Epoch 83/150\n",
      "1/1 [==============================] - 0s 2ms/step - loss: 0.0074\n",
      "Epoch 84/150\n",
      "1/1 [==============================] - 0s 2ms/step - loss: 0.0072\n",
      "Epoch 85/150\n",
      "1/1 [==============================] - 0s 2ms/step - loss: 0.0071\n",
      "Epoch 86/150\n",
      "1/1 [==============================] - 0s 2ms/step - loss: 0.0070\n",
      "Epoch 87/150\n",
      "1/1 [==============================] - 0s 2ms/step - loss: 0.0069\n",
      "Epoch 88/150\n",
      "1/1 [==============================] - 0s 2ms/step - loss: 0.0067\n",
      "Epoch 89/150\n",
      "1/1 [==============================] - 0s 2ms/step - loss: 0.0066\n",
      "Epoch 90/150\n",
      "1/1 [==============================] - 0s 2ms/step - loss: 0.0065\n",
      "Epoch 91/150\n",
      "1/1 [==============================] - 0s 2ms/step - loss: 0.0064\n",
      "Epoch 92/150\n",
      "1/1 [==============================] - 0s 2ms/step - loss: 0.0063\n",
      "Epoch 93/150\n",
      "1/1 [==============================] - 0s 2ms/step - loss: 0.0062\n",
      "Epoch 94/150\n",
      "1/1 [==============================] - 0s 1ms/step - loss: 0.0061\n",
      "Epoch 95/150\n",
      "1/1 [==============================] - 0s 2ms/step - loss: 0.0060\n",
      "Epoch 96/150\n",
      "1/1 [==============================] - 0s 2ms/step - loss: 0.0059\n",
      "Epoch 97/150\n",
      "1/1 [==============================] - 0s 2ms/step - loss: 0.0058\n",
      "Epoch 98/150\n",
      "1/1 [==============================] - 0s 2ms/step - loss: 0.0057\n",
      "Epoch 99/150\n",
      "1/1 [==============================] - 0s 1ms/step - loss: 0.0056\n",
      "Epoch 100/150\n",
      "1/1 [==============================] - 0s 2ms/step - loss: 0.0055\n",
      "Epoch 101/150\n",
      "1/1 [==============================] - 0s 2ms/step - loss: 0.0054\n",
      "Epoch 102/150\n",
      "1/1 [==============================] - 0s 2ms/step - loss: 0.0053\n",
      "Epoch 103/150\n",
      "1/1 [==============================] - 0s 3ms/step - loss: 0.0052\n",
      "Epoch 104/150\n"
     ]
    },
    {
     "name": "stdout",
     "output_type": "stream",
     "text": [
      "1/1 [==============================] - 0s 4ms/step - loss: 0.0051\n",
      "Epoch 105/150\n",
      "1/1 [==============================] - 0s 3ms/step - loss: 0.0050\n",
      "Epoch 106/150\n",
      "1/1 [==============================] - 0s 3ms/step - loss: 0.0049\n",
      "Epoch 107/150\n",
      "1/1 [==============================] - 0s 2ms/step - loss: 0.0048\n",
      "Epoch 108/150\n",
      "1/1 [==============================] - 0s 3ms/step - loss: 0.0048\n",
      "Epoch 109/150\n",
      "1/1 [==============================] - 0s 3ms/step - loss: 0.0047\n",
      "Epoch 110/150\n",
      "1/1 [==============================] - 0s 3ms/step - loss: 0.0046\n",
      "Epoch 111/150\n",
      "1/1 [==============================] - 0s 2ms/step - loss: 0.0045\n",
      "Epoch 112/150\n",
      "1/1 [==============================] - 0s 2ms/step - loss: 0.0044\n",
      "Epoch 113/150\n",
      "1/1 [==============================] - 0s 2ms/step - loss: 0.0044\n",
      "Epoch 114/150\n",
      "1/1 [==============================] - 0s 1ms/step - loss: 0.0043\n",
      "Epoch 115/150\n",
      "1/1 [==============================] - 0s 1ms/step - loss: 0.0042\n",
      "Epoch 116/150\n",
      "1/1 [==============================] - 0s 1ms/step - loss: 0.0041\n",
      "Epoch 117/150\n",
      "1/1 [==============================] - 0s 2ms/step - loss: 0.0041\n",
      "Epoch 118/150\n",
      "1/1 [==============================] - 0s 2ms/step - loss: 0.0040\n",
      "Epoch 119/150\n",
      "1/1 [==============================] - 0s 2ms/step - loss: 0.0039\n",
      "Epoch 120/150\n",
      "1/1 [==============================] - 0s 2ms/step - loss: 0.0039\n",
      "Epoch 121/150\n",
      "1/1 [==============================] - 0s 2ms/step - loss: 0.0038\n",
      "Epoch 122/150\n",
      "1/1 [==============================] - 0s 2ms/step - loss: 0.0037\n",
      "Epoch 123/150\n",
      "1/1 [==============================] - 0s 2ms/step - loss: 0.0037\n",
      "Epoch 124/150\n",
      "1/1 [==============================] - 0s 1ms/step - loss: 0.0036\n",
      "Epoch 125/150\n",
      "1/1 [==============================] - 0s 2ms/step - loss: 0.0035\n",
      "Epoch 126/150\n",
      "1/1 [==============================] - 0s 1ms/step - loss: 0.0035\n",
      "Epoch 127/150\n",
      "1/1 [==============================] - 0s 2ms/step - loss: 0.0034\n",
      "Epoch 128/150\n",
      "1/1 [==============================] - 0s 2ms/step - loss: 0.0034\n",
      "Epoch 129/150\n",
      "1/1 [==============================] - 0s 1ms/step - loss: 0.0033\n",
      "Epoch 130/150\n",
      "1/1 [==============================] - 0s 2ms/step - loss: 0.0032\n",
      "Epoch 131/150\n",
      "1/1 [==============================] - 0s 2ms/step - loss: 0.0032\n",
      "Epoch 132/150\n",
      "1/1 [==============================] - 0s 2ms/step - loss: 0.0031\n",
      "Epoch 133/150\n",
      "1/1 [==============================] - 0s 2ms/step - loss: 0.0031\n",
      "Epoch 134/150\n",
      "1/1 [==============================] - 0s 2ms/step - loss: 0.0030\n",
      "Epoch 135/150\n",
      "1/1 [==============================] - 0s 2ms/step - loss: 0.0030\n",
      "Epoch 136/150\n",
      "1/1 [==============================] - 0s 2ms/step - loss: 0.0029\n",
      "Epoch 137/150\n",
      "1/1 [==============================] - 0s 2ms/step - loss: 0.0029\n",
      "Epoch 138/150\n",
      "1/1 [==============================] - 0s 2ms/step - loss: 0.0028\n",
      "Epoch 139/150\n",
      "1/1 [==============================] - 0s 1ms/step - loss: 0.0028\n",
      "Epoch 140/150\n",
      "1/1 [==============================] - 0s 2ms/step - loss: 0.0027\n",
      "Epoch 141/150\n",
      "1/1 [==============================] - 0s 2ms/step - loss: 0.0027\n",
      "Epoch 142/150\n",
      "1/1 [==============================] - 0s 2ms/step - loss: 0.0026\n",
      "Epoch 143/150\n",
      "1/1 [==============================] - 0s 1ms/step - loss: 0.0026\n",
      "Epoch 144/150\n",
      "1/1 [==============================] - 0s 1ms/step - loss: 0.0025\n",
      "Epoch 145/150\n",
      "1/1 [==============================] - 0s 2ms/step - loss: 0.0025\n",
      "Epoch 146/150\n",
      "1/1 [==============================] - 0s 2ms/step - loss: 0.0024\n",
      "Epoch 147/150\n",
      "1/1 [==============================] - 0s 1ms/step - loss: 0.0024\n",
      "Epoch 148/150\n",
      "1/1 [==============================] - 0s 1ms/step - loss: 0.0024\n",
      "Epoch 149/150\n",
      "1/1 [==============================] - 0s 1ms/step - loss: 0.0023\n",
      "Epoch 150/150\n",
      "1/1 [==============================] - 0s 2ms/step - loss: 0.0023\n"
     ]
    },
    {
     "data": {
      "text/plain": [
       "<keras.src.callbacks.History at 0x16c403640>"
      ]
     },
     "execution_count": 4,
     "metadata": {},
     "output_type": "execute_result"
    }
   ],
   "source": [
    "model.fit(X, y, epochs=150) #train the model"
   ]
  },
  {
   "cell_type": "code",
   "execution_count": 5,
   "id": "92c03668",
   "metadata": {},
   "outputs": [
    {
     "name": "stdout",
     "output_type": "stream",
     "text": [
      "1/1 [==============================] - 0s 27ms/step\n",
      "[[19.911825]]\n"
     ]
    }
   ],
   "source": [
    "print(model.predict([10.0])) #expected result = 20"
   ]
  },
  {
   "cell_type": "code",
   "execution_count": 6,
   "id": "b54cad99",
   "metadata": {},
   "outputs": [
    {
     "name": "stdout",
     "output_type": "stream",
     "text": [
      "[[1.9841813]]\n",
      "[0.07001254]\n"
     ]
    }
   ],
   "source": [
    "m = layer0.get_weights()[0] #y = mX + bias\n",
    "bias = layer0.get_weights()[1]\n",
    "print(m)\n",
    "print(bias)"
   ]
  },
  {
   "cell_type": "markdown",
   "id": "38ac115e",
   "metadata": {},
   "source": [
    "# CNN"
   ]
  },
  {
   "cell_type": "code",
   "execution_count": 7,
   "id": "8c1dfe86",
   "metadata": {},
   "outputs": [],
   "source": [
    "# loading data\n",
    "data = tf.keras.datasets.fashion_mnist\n",
    "(training_images, training_labels), (test_images, test_labels) = data.load_data()"
   ]
  },
  {
   "cell_type": "markdown",
   "id": "a149891c",
   "metadata": {},
   "source": [
    "# Scaling image"
   ]
  },
  {
   "cell_type": "code",
   "execution_count": 8,
   "id": "c992d473",
   "metadata": {
    "scrolled": true
   },
   "outputs": [
    {
     "data": {
      "text/plain": [
       "(60000, 28, 28)"
      ]
     },
     "execution_count": 8,
     "metadata": {},
     "output_type": "execute_result"
    }
   ],
   "source": [
    "training_images.shape # 60000 of images in train set, and size is (28,28,1) grayscale"
   ]
  },
  {
   "cell_type": "code",
   "execution_count": 9,
   "id": "aed0ef97",
   "metadata": {},
   "outputs": [
    {
     "data": {
      "text/plain": [
       "(60000,)"
      ]
     },
     "execution_count": 9,
     "metadata": {},
     "output_type": "execute_result"
    }
   ],
   "source": [
    "training_labels.shape"
   ]
  },
  {
   "cell_type": "code",
   "execution_count": 10,
   "id": "a620d0af",
   "metadata": {},
   "outputs": [],
   "source": [
    "#grayscale  value 0-255\n",
    "training_images  = training_images / 255.0 # image scaling\n",
    "test_images = test_images / 255.0"
   ]
  },
  {
   "cell_type": "code",
   "execution_count": 11,
   "id": "0699bf85",
   "metadata": {},
   "outputs": [],
   "source": [
    "model = tf.keras.models.Sequential([                            # for: layer0\n",
    "          tf.keras.layers.Conv2D(64, (3, 3), activation='relu', # number rof filter 64, filter size = 3*3\n",
    "                      input_shape=(28, 28, 1)),                 # activation function = 'relu'\n",
    "          tf.keras.layers.MaxPooling2D(2, 2),                   # input size = (28,28,1) because our image size is (28,28)\n",
    "          tf.keras.layers.Conv2D(64, (3, 3), activation='relu'),\n",
    "          tf.keras.layers.MaxPooling2D(2,2),\n",
    "          tf.keras.layers.Flatten(),\n",
    "          tf.keras.layers.Dense(128, activation=tf.nn.relu),\n",
    "          tf.keras.layers.Dense(10, activation=tf.nn.softmax)   # softmax for multi-class classification\n",
    "])"
   ]
  },
  {
   "cell_type": "code",
   "execution_count": 12,
   "id": "859bb71b",
   "metadata": {},
   "outputs": [],
   "source": [
    "model.compile(optimizer='adam',\n",
    "           loss='sparse_categorical_crossentropy',\n",
    "           metrics=['accuracy'])\n"
   ]
  },
  {
   "cell_type": "code",
   "execution_count": 13,
   "id": "29c01fa5",
   "metadata": {},
   "outputs": [
    {
     "name": "stdout",
     "output_type": "stream",
     "text": [
      "Epoch 1/10\n",
      "1875/1875 [==============================] - 13s 7ms/step - loss: 0.4363 - accuracy: 0.8409\n",
      "Epoch 2/10\n",
      "1875/1875 [==============================] - 13s 7ms/step - loss: 0.2970 - accuracy: 0.8902\n",
      "Epoch 3/10\n",
      "1875/1875 [==============================] - 13s 7ms/step - loss: 0.2521 - accuracy: 0.9055\n",
      "Epoch 4/10\n",
      "1875/1875 [==============================] - 13s 7ms/step - loss: 0.2183 - accuracy: 0.9184\n",
      "Epoch 5/10\n",
      "1875/1875 [==============================] - 13s 7ms/step - loss: 0.1892 - accuracy: 0.9287\n",
      "Epoch 6/10\n",
      "1875/1875 [==============================] - 13s 7ms/step - loss: 0.1651 - accuracy: 0.9380\n",
      "Epoch 7/10\n",
      "1875/1875 [==============================] - 13s 7ms/step - loss: 0.1456 - accuracy: 0.9452\n",
      "Epoch 8/10\n",
      "1875/1875 [==============================] - 13s 7ms/step - loss: 0.1261 - accuracy: 0.9528\n",
      "Epoch 9/10\n",
      "1875/1875 [==============================] - 14s 7ms/step - loss: 0.1113 - accuracy: 0.9575\n",
      "Epoch 10/10\n",
      "1875/1875 [==============================] - 14s 7ms/step - loss: 0.0980 - accuracy: 0.9623\n"
     ]
    },
    {
     "data": {
      "text/plain": [
       "<keras.src.callbacks.History at 0x16c71ab80>"
      ]
     },
     "execution_count": 13,
     "metadata": {},
     "output_type": "execute_result"
    }
   ],
   "source": [
    "model.fit(training_images, training_labels, epochs=10)"
   ]
  },
  {
   "cell_type": "code",
   "execution_count": 14,
   "id": "ef6f2e98",
   "metadata": {},
   "outputs": [
    {
     "name": "stdout",
     "output_type": "stream",
     "text": [
      "313/313 [==============================] - 1s 3ms/step - loss: 0.3148 - accuracy: 0.9171\n"
     ]
    },
    {
     "data": {
      "text/plain": [
       "[0.3148367404937744, 0.9171000123023987]"
      ]
     },
     "execution_count": 14,
     "metadata": {},
     "output_type": "execute_result"
    }
   ],
   "source": [
    " model.evaluate(test_images, test_labels)"
   ]
  },
  {
   "cell_type": "markdown",
   "id": "cb518fee",
   "metadata": {},
   "source": [
    "# Prediction"
   ]
  },
  {
   "cell_type": "code",
   "execution_count": 15,
   "id": "391d9ab3",
   "metadata": {},
   "outputs": [
    {
     "name": "stdout",
     "output_type": "stream",
     "text": [
      "313/313 [==============================] - 1s 2ms/step\n",
      "[1.7067621e-10 1.8488442e-12 6.1069780e-13 7.6804170e-14 1.8163335e-13\n",
      " 3.1826483e-10 6.2860334e-13 2.6446372e-08 7.8504425e-11 1.0000000e+00]\n",
      "9\n"
     ]
    }
   ],
   "source": [
    "classifications = model.predict(test_images)\n",
    "print(classifications[0]) # 10'th value of the array(index=9) is the max(1) which represent the value 9\n",
    "print(test_labels[0])"
   ]
  },
  {
   "cell_type": "code",
   "execution_count": null,
   "id": "072f3ef8",
   "metadata": {},
   "outputs": [],
   "source": []
  }
 ],
 "metadata": {
  "kernelspec": {
   "display_name": "tf",
   "language": "python",
   "name": "tf"
  },
  "language_info": {
   "codemirror_mode": {
    "name": "ipython",
    "version": 3
   },
   "file_extension": ".py",
   "mimetype": "text/x-python",
   "name": "python",
   "nbconvert_exporter": "python",
   "pygments_lexer": "ipython3",
   "version": "3.9.17"
  }
 },
 "nbformat": 4,
 "nbformat_minor": 5
}
