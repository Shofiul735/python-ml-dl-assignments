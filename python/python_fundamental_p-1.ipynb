{
 "cells": [
  {
   "cell_type": "markdown",
   "id": "d263637b",
   "metadata": {},
   "source": [
    "# Variable\n",
    "    - Dynamically typed"
   ]
  },
  {
   "cell_type": "code",
   "execution_count": 1,
   "id": "0ae9b389",
   "metadata": {},
   "outputs": [
    {
     "name": "stdout",
     "output_type": "stream",
     "text": [
      "1 1.1 Text\n"
     ]
    }
   ],
   "source": [
    "a = 1\n",
    "b = 1.1\n",
    "c = 'Text'\n",
    "print(a,b,c)"
   ]
  },
  {
   "cell_type": "markdown",
   "id": "24d2eb87",
   "metadata": {},
   "source": [
    "# Scope\n",
    "    - Block scope\n",
    "        1. Local\n",
    "        2. Global"
   ]
  },
  {
   "cell_type": "code",
   "execution_count": 2,
   "id": "fc92993b",
   "metadata": {},
   "outputs": [],
   "source": [
    "x = 5\n",
    "\n",
    "def add2Withx():\n",
    "    return x + 2\n",
    "\n",
    "def addXwithK():\n",
    "    k = 3\n",
    "    return x + k\n",
    "\n",
    "print(add2Withx(),addXwithK())\n"
   ]
  },
  {
   "cell_type": "markdown",
   "id": "e6e8b163",
   "metadata": {},
   "source": [
    "# Data Type\n",
    "    # Primitive type\n",
    "        - Number\n",
    "        - String\n",
    "        - Boolean\n",
    "    # Reference type\n",
    "        - List\n",
    "        - Tuple => Immutable list\n",
    "        - Dictionary\n",
    "        - Set"
   ]
  },
  {
   "cell_type": "code",
   "execution_count": null,
   "id": "4f274296",
   "metadata": {},
   "outputs": [],
   "source": [
    "number_list = [1,2,3,3]\n",
    "number_tuple = (1,2,3)\n",
    "number_dictionary = {'a':1,'b':2}\n",
    "number_set = set(number_list)\n",
    "\n",
    "print(f'List:{number_list} and Type: {type(number_list)}')\n",
    "print(f'Tuple:{number_tuple} and Type: {type(number_tuple)}')\n",
    "print(f'Tuple:{number_dictionary} and Type: {type(number_dictionary)}')\n",
    "print(f'Tuple:{number_set} and Type: {type(number_set)}')"
   ]
  },
  {
   "cell_type": "markdown",
   "id": "a0627c7d",
   "metadata": {},
   "source": [
    "# Condition"
   ]
  },
  {
   "cell_type": "code",
   "execution_count": null,
   "id": "56a9316f",
   "metadata": {},
   "outputs": [],
   "source": [
    "import random\n",
    "\n",
    "random_number = random.randint(1,10)\n",
    "#print(random_number)\n",
    "\n",
    "if random_number < 5:\n",
    "    print('Number is less than 5')\n",
    "elif random_number < 7:\n",
    "    print('Number is less than 7')\n",
    "else:\n",
    "    print('Number is greater than 7')\n"
   ]
  },
  {
   "cell_type": "markdown",
   "id": "5e31eca9",
   "metadata": {},
   "source": [
    "# Loops\n",
    "    - while\n",
    "    - for"
   ]
  },
  {
   "cell_type": "code",
   "execution_count": null,
   "id": "35da6852",
   "metadata": {},
   "outputs": [],
   "source": [
    "count = 0\n",
    "\n",
    "while count < 5:\n",
    "    print(count)\n",
    "    count += 1 # python doesn't support count++ count-- "
   ]
  },
  {
   "cell_type": "code",
   "execution_count": null,
   "id": "d18769c8",
   "metadata": {},
   "outputs": [],
   "source": [
    "list_of_fruits = ['apple','orange','pineapple','limon']\n",
    "\n",
    "for fruit in list_of_fruits:\n",
    "    print(f'The fruit name is:{fruit}')"
   ]
  },
  {
   "cell_type": "markdown",
   "id": "6b2c9c96",
   "metadata": {},
   "source": [
    "# Function"
   ]
  },
  {
   "cell_type": "code",
   "execution_count": null,
   "id": "bb669ea7",
   "metadata": {},
   "outputs": [],
   "source": [
    "def do_something(task):\n",
    "    print(f\"I'm doing: {task}\")\n",
    "\n",
    "do_something('my writting')"
   ]
  },
  {
   "cell_type": "markdown",
   "id": "3450deb8",
   "metadata": {},
   "source": [
    "# Class\n",
    "\n",
    "## Inheritance\n",
    "    - Base Class\n",
    "    - Child Class"
   ]
  },
  {
   "cell_type": "code",
   "execution_count": null,
   "id": "91cd292a",
   "metadata": {},
   "outputs": [],
   "source": [
    "class Animal:\n",
    "    def __init__(self,name):\n",
    "        self.animal_name = name\n",
    "        \n",
    "    def get_animal_name(self):\n",
    "        return self.animal_name\n",
    "    "
   ]
  },
  {
   "cell_type": "code",
   "execution_count": null,
   "id": "008f6c2d",
   "metadata": {},
   "outputs": [],
   "source": [
    "animal = Animal('Dog')\n",
    "\n",
    "print(animal.get_animal_name())"
   ]
  },
  {
   "cell_type": "code",
   "execution_count": null,
   "id": "0c6389c9",
   "metadata": {},
   "outputs": [],
   "source": [
    "class Human(Animal):\n",
    "    def __init__(self,name):\n",
    "        super().__init__(name)\n",
    "    \n",
    "    def status(self):\n",
    "        return f'{self.animal_name} is studing'"
   ]
  },
  {
   "cell_type": "code",
   "execution_count": null,
   "id": "f6c6b5bc",
   "metadata": {},
   "outputs": [],
   "source": [
    "human = Human('Shofiul')\n",
    "print(human.status())"
   ]
  },
  {
   "cell_type": "code",
   "execution_count": null,
   "id": "8e7f1548",
   "metadata": {},
   "outputs": [],
   "source": [
    "a_list = [1,2,3]\n",
    "\n",
    "a_list.append(4)\n",
    "a_list.extend([5,6])\n",
    "print(a_list)"
   ]
  },
  {
   "cell_type": "markdown",
   "id": "03c214fc",
   "metadata": {},
   "source": [
    "### Some useful python array functions\n",
    "    1. len => size of the array\n",
    "    2. append => add an element in the end of the array\n",
    "    3. pop => remove an element from the end of the array\n",
    "    4. sort => inplace sorting\n",
    "    5. return the index value of an element\n",
    "    6. map => use the array values to make a different array with modified values"
   ]
  },
  {
   "cell_type": "code",
   "execution_count": null,
   "id": "ceeb1733",
   "metadata": {},
   "outputs": [],
   "source": [
    "array = [1, 2, 3, 4, 5]\n",
    "print(len(array))  # Output: 5"
   ]
  },
  {
   "cell_type": "code",
   "execution_count": null,
   "id": "03d93981",
   "metadata": {},
   "outputs": [],
   "source": [
    "array = [1, 2, 3]\n",
    "array.append(4)\n",
    "print(array)  # Output: [1, 2, 3, 4]\n"
   ]
  },
  {
   "cell_type": "code",
   "execution_count": null,
   "id": "6ac4c60b",
   "metadata": {},
   "outputs": [],
   "source": [
    "array = [1, 2, 3, 4]\n",
    "element = array.pop()\n",
    "print(element)  # Output: 4\n",
    "print(array)    # Output: [1, 2, 3]"
   ]
  },
  {
   "cell_type": "code",
   "execution_count": null,
   "id": "f930bb4e",
   "metadata": {},
   "outputs": [],
   "source": [
    "array = [3, 1, 4, 2, 5]\n",
    "array.sort()\n",
    "print(array)  # Output: [1, 2, 3, 4, 5]"
   ]
  },
  {
   "cell_type": "code",
   "execution_count": null,
   "id": "6b014db5",
   "metadata": {},
   "outputs": [],
   "source": [
    "array = [1, 2, 3, 4, 5]\n",
    "index = array.index(3)\n",
    "print(index)  # Output: 2"
   ]
  },
  {
   "cell_type": "code",
   "execution_count": null,
   "id": "99d0bca3",
   "metadata": {},
   "outputs": [],
   "source": [
    "array = [1, 2, 3, 4, 5]\n",
    "newArray = list(map(lambda x: x**2, array))\n",
    "print(newArray) "
   ]
  },
  {
   "cell_type": "code",
   "execution_count": null,
   "id": "5976180e",
   "metadata": {},
   "outputs": [],
   "source": [
    "array = [1, 2, 3, 4, 5]\n",
    "newArray = array[1:4] # array slicing \n",
    "print(newArray)"
   ]
  },
  {
   "cell_type": "code",
   "execution_count": null,
   "id": "77410e94",
   "metadata": {},
   "outputs": [],
   "source": [
    "array = [1, 2, 3, 4, 5]\n",
    "newArray = array[4:1:-1] # array slicing \n",
    "print(newArray)"
   ]
  },
  {
   "cell_type": "code",
   "execution_count": null,
   "id": "29ba174b",
   "metadata": {},
   "outputs": [],
   "source": [
    "print(-5//2) # flooring the value\n",
    "print(-5/2)  # original value\n",
    "print(int(-5/2)) # only the interger part"
   ]
  },
  {
   "cell_type": "code",
   "execution_count": null,
   "id": "92f4adb8",
   "metadata": {},
   "outputs": [],
   "source": [
    "for x in range(10,0,-2): # reverse loop, move by 2 steps\n",
    "    print(x)"
   ]
  },
  {
   "cell_type": "code",
   "execution_count": null,
   "id": "cb421111",
   "metadata": {},
   "outputs": [],
   "source": [
    "for x in range(0,10,2): # loop, move by 2 steps\n",
    "    print(x)"
   ]
  }
 ],
 "metadata": {
  "kernelspec": {
   "display_name": "Python 3 (ipykernel)",
   "language": "python",
   "name": "python3"
  },
  "language_info": {
   "codemirror_mode": {
    "name": "ipython",
    "version": 3
   },
   "file_extension": ".py",
   "mimetype": "text/x-python",
   "name": "python",
   "nbconvert_exporter": "python",
   "pygments_lexer": "ipython3",
   "version": "3.11.3"
  }
 },
 "nbformat": 4,
 "nbformat_minor": 5
}
