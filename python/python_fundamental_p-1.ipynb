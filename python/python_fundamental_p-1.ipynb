{
 "cells": [
  {
   "cell_type": "markdown",
   "id": "d263637b",
   "metadata": {},
   "source": [
    "# Variable\n",
    "    - Dynamically typed"
   ]
  },
  {
   "cell_type": "code",
   "execution_count": 1,
   "id": "0ae9b389",
   "metadata": {},
   "outputs": [
    {
     "name": "stdout",
     "output_type": "stream",
     "text": [
      "1 1.1 Text\n"
     ]
    }
   ],
   "source": [
    "a = 1\n",
    "b = 1.1\n",
    "c = 'Text'\n",
    "print(a,b,c)"
   ]
  },
  {
   "cell_type": "markdown",
   "id": "24d2eb87",
   "metadata": {},
   "source": [
    "# Scope\n",
    "    - Block scope\n",
    "        1. Local\n",
    "        2. Global"
   ]
  },
  {
   "cell_type": "code",
   "execution_count": 2,
   "id": "fc92993b",
   "metadata": {},
   "outputs": [
    {
     "name": "stdout",
     "output_type": "stream",
     "text": [
      "7 8\n"
     ]
    }
   ],
   "source": [
    "x = 5\n",
    "\n",
    "def add2Withx():\n",
    "    return x + 2\n",
    "\n",
    "def addXwithK():\n",
    "    k = 3\n",
    "    return x + k\n",
    "\n",
    "print(add2Withx(),addXwithK())\n"
   ]
  },
  {
   "cell_type": "markdown",
   "id": "e6e8b163",
   "metadata": {},
   "source": [
    "# Data Type\n",
    "    # Primitive type\n",
    "        - Number\n",
    "        - String\n",
    "        - Boolean\n",
    "    # Reference type\n",
    "        - List\n",
    "        - Tuple => Immutable list\n",
    "        - Dictionary\n",
    "        - Set"
   ]
  },
  {
   "cell_type": "code",
   "execution_count": 3,
   "id": "4f274296",
   "metadata": {},
   "outputs": [
    {
     "name": "stdout",
     "output_type": "stream",
     "text": [
      "List:[1, 2, 3, 3] and Type: <class 'list'>\n",
      "Tuple:(1, 2, 3) and Type: <class 'tuple'>\n",
      "Tuple:{'a': 1, 'b': 2} and Type: <class 'dict'>\n",
      "Tuple:{1, 2, 3} and Type: <class 'set'>\n"
     ]
    }
   ],
   "source": [
    "number_list = [1,2,3,3]\n",
    "number_tuple = (1,2,3)\n",
    "number_dictionary = {'a':1,'b':2}\n",
    "number_set = set(number_list)\n",
    "\n",
    "print(f'List:{number_list} and Type: {type(number_list)}')\n",
    "print(f'Tuple:{number_tuple} and Type: {type(number_tuple)}')\n",
    "print(f'Tuple:{number_dictionary} and Type: {type(number_dictionary)}')\n",
    "print(f'Tuple:{number_set} and Type: {type(number_set)}')"
   ]
  },
  {
   "cell_type": "markdown",
   "id": "a0627c7d",
   "metadata": {},
   "source": [
    "# Condition"
   ]
  },
  {
   "cell_type": "code",
   "execution_count": 4,
   "id": "56a9316f",
   "metadata": {},
   "outputs": [
    {
     "name": "stdout",
     "output_type": "stream",
     "text": [
      "Number is less than 7\n"
     ]
    }
   ],
   "source": [
    "import random\n",
    "\n",
    "random_number = random.randint(1,10)\n",
    "#print(random_number)\n",
    "\n",
    "if random_number < 5:\n",
    "    print('Number is less than 5')\n",
    "elif random_number < 7:\n",
    "    print('Number is less than 7')\n",
    "else:\n",
    "    print('Number is greater than 7')\n"
   ]
  },
  {
   "cell_type": "markdown",
   "id": "5e31eca9",
   "metadata": {},
   "source": [
    "# Loops\n",
    "    - while\n",
    "    - for"
   ]
  },
  {
   "cell_type": "code",
   "execution_count": 5,
   "id": "35da6852",
   "metadata": {},
   "outputs": [
    {
     "name": "stdout",
     "output_type": "stream",
     "text": [
      "0\n",
      "1\n",
      "2\n",
      "3\n",
      "4\n"
     ]
    }
   ],
   "source": [
    "count = 0\n",
    "\n",
    "while count < 5:\n",
    "    print(count)\n",
    "    count += 1 # python doesn't support count++ count-- "
   ]
  },
  {
   "cell_type": "code",
   "execution_count": 6,
   "id": "d18769c8",
   "metadata": {},
   "outputs": [
    {
     "name": "stdout",
     "output_type": "stream",
     "text": [
      "The fruit name is:apple\n",
      "The fruit name is:orange\n",
      "The fruit name is:pineapple\n",
      "The fruit name is:limon\n"
     ]
    }
   ],
   "source": [
    "list_of_fruits = ['apple','orange','pineapple','limon']\n",
    "\n",
    "for fruit in list_of_fruits:\n",
    "    print(f'The fruit name is:{fruit}')"
   ]
  },
  {
   "cell_type": "markdown",
   "id": "6b2c9c96",
   "metadata": {},
   "source": [
    "# Function"
   ]
  },
  {
   "cell_type": "code",
   "execution_count": 7,
   "id": "bb669ea7",
   "metadata": {},
   "outputs": [
    {
     "name": "stdout",
     "output_type": "stream",
     "text": [
      "I'm doing: my writting\n"
     ]
    }
   ],
   "source": [
    "def do_something(task):\n",
    "    print(f\"I'm doing: {task}\")\n",
    "\n",
    "do_something('my writting')"
   ]
  },
  {
   "cell_type": "markdown",
   "id": "3450deb8",
   "metadata": {},
   "source": [
    "# Class\n",
    "\n",
    "## Inheritance\n",
    "    - Base Class\n",
    "    - Child Class"
   ]
  },
  {
   "cell_type": "code",
   "execution_count": 8,
   "id": "91cd292a",
   "metadata": {},
   "outputs": [],
   "source": [
    "class Animal:\n",
    "    def __init__(self,name):\n",
    "        self.animal_name = name\n",
    "        \n",
    "    def get_animal_name(self):\n",
    "        return self.animal_name\n",
    "    "
   ]
  },
  {
   "cell_type": "code",
   "execution_count": 9,
   "id": "008f6c2d",
   "metadata": {},
   "outputs": [
    {
     "name": "stdout",
     "output_type": "stream",
     "text": [
      "Dog\n"
     ]
    }
   ],
   "source": [
    "animal = Animal('Dog')\n",
    "\n",
    "print(animal.get_animal_name())"
   ]
  },
  {
   "cell_type": "code",
   "execution_count": 10,
   "id": "0c6389c9",
   "metadata": {},
   "outputs": [],
   "source": [
    "class Human(Animal):\n",
    "    def __init__(self,name):\n",
    "        super().__init__(name)\n",
    "    \n",
    "    def status(self):\n",
    "        return f'{self.animal_name} is studing'"
   ]
  },
  {
   "cell_type": "code",
   "execution_count": 11,
   "id": "f6c6b5bc",
   "metadata": {},
   "outputs": [
    {
     "name": "stdout",
     "output_type": "stream",
     "text": [
      "Shofiul is studing\n"
     ]
    }
   ],
   "source": [
    "human = Human('Shofiul')\n",
    "print(human.status())"
   ]
  },
  {
   "cell_type": "code",
   "execution_count": 69,
   "id": "8e7f1548",
   "metadata": {},
   "outputs": [
    {
     "name": "stdout",
     "output_type": "stream",
     "text": [
      "[1, 2, 3, 4, 5, 6]\n"
     ]
    }
   ],
   "source": [
    "a_list = [1,2,3]\n",
    "\n",
    "a_list.append(4)\n",
    "a_list.extend([5,6])\n",
    "print(a_list)"
   ]
  },
  {
   "cell_type": "code",
   "execution_count": 72,
   "id": "29ba174b",
   "metadata": {},
   "outputs": [
    {
     "data": {
      "text/plain": [
       "-2"
      ]
     },
     "execution_count": 72,
     "metadata": {},
     "output_type": "execute_result"
    }
   ],
   "source": [
    "int(-5/2)"
   ]
  },
  {
   "cell_type": "code",
   "execution_count": 77,
   "id": "92f4adb8",
   "metadata": {},
   "outputs": [
    {
     "name": "stdout",
     "output_type": "stream",
     "text": [
      "10\n",
      "8\n",
      "6\n",
      "4\n",
      "2\n"
     ]
    }
   ],
   "source": [
    "for x in range(10,0,-2):\n",
    "    print(x)"
   ]
  },
  {
   "cell_type": "code",
   "execution_count": 82,
   "id": "cb421111",
   "metadata": {},
   "outputs": [
    {
     "name": "stdout",
     "output_type": "stream",
     "text": [
      "0\n",
      "2\n",
      "4\n",
      "6\n",
      "8\n"
     ]
    }
   ],
   "source": [
    "for x in range(0,10,2):\n",
    "    print(x)"
   ]
  },
  {
   "cell_type": "code",
   "execution_count": null,
   "id": "c04bcab2",
   "metadata": {},
   "outputs": [],
   "source": []
  }
 ],
 "metadata": {
  "kernelspec": {
   "display_name": "Python 3 (ipykernel)",
   "language": "python",
   "name": "python3"
  },
  "language_info": {
   "codemirror_mode": {
    "name": "ipython",
    "version": 3
   },
   "file_extension": ".py",
   "mimetype": "text/x-python",
   "name": "python",
   "nbconvert_exporter": "python",
   "pygments_lexer": "ipython3",
   "version": "3.11.3"
  }
 },
 "nbformat": 4,
 "nbformat_minor": 5
}
